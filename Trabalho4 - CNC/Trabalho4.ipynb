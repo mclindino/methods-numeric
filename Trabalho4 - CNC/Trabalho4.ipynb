{
  "nbformat": 4,
  "nbformat_minor": 0,
  "metadata": {
    "colab": {
      "name": "Trabalho4.ipynb",
      "provenance": [],
      "collapsed_sections": [
        "ZvTU5OFxqnlK"
      ]
    },
    "kernelspec": {
      "name": "python3",
      "display_name": "Python 3"
    }
  },
  "cells": [
    {
      "cell_type": "markdown",
      "metadata": {
        "id": "QS_Ze-YlJOSf",
        "colab_type": "text"
      },
      "source": [
        "# Vinícius Renato Rocha Geraldo"
      ]
    },
    {
      "cell_type": "markdown",
      "metadata": {
        "id": "xyfOstVRJZYK",
        "colab_type": "text"
      },
      "source": [
        "## Import das bibliotecas"
      ]
    },
    {
      "cell_type": "code",
      "metadata": {
        "id": "OJJ_oEP2JPWH",
        "colab_type": "code",
        "colab": {}
      },
      "source": [
        "import math \n",
        "import numpy as np\n",
        "import pandas as pd\n",
        "import matplotlib.pyplot as plt\n",
        "from scipy import linalg\n",
        "from scipy.optimize import curve_fit\n",
        "from pylab import *\n",
        "from sympy import Symbol, Derivative, symbols"
      ],
      "execution_count": 0,
      "outputs": []
    },
    {
      "cell_type": "markdown",
      "metadata": {
        "id": "jz_jv2lIJeFp",
        "colab_type": "text"
      },
      "source": [
        "# Método dos Trapézios Repetidos\n",
        "\n"
      ]
    },
    {
      "cell_type": "code",
      "metadata": {
        "id": "rvnuGJ3wLQht",
        "colab_type": "code",
        "colab": {}
      },
      "source": [
        "def Itr(a, b, fx, n):\n",
        "  h = (b - a)/n\n",
        "  x = np.zeros(n + 1)\n",
        "  y = np.zeros(n + 1)\n",
        "  new_y = np.zeros(n + 1)\n",
        "  # Construindo o vetor de intervalos para realizar o somatório\n",
        "  x[0] = a\n",
        "  for i in range(a, n + 1):\n",
        "    x[i] = a + (i*h)\n",
        "  \n",
        "  # Utilizando os valores encontrados em x para trocar na função associada\n",
        "  for i in range(a, n + 1):\n",
        "    y[i] = fx(x[i])\n",
        "  \n",
        "  \"\"\"\n",
        "  Realizando a multiplicação por 2 dos valores do somatório, pois ao realizar o f(x)+f(x+1)\n",
        "  os valores entre esses intervalos vão ser somados duas vezes \n",
        "\n",
        "  -- como exemplo 0 a 1 => utilizando um subintervalo de 10 valores de 0.1 quando for feito f(x) + f(x+1)\n",
        "  ele se comportará da seguinte forma:\n",
        "\n",
        "    f(0) + f(0.1)\n",
        "    f(0.1) + f(0.2)\n",
        "    f(0.2) + f(0.3)\n",
        "    f(0.3) + f(0.4)\n",
        "    .\n",
        "    .\n",
        "    .\n",
        "  \"\"\"\n",
        "  for i in range(a, n + 1):\n",
        "    if (i == 0):\n",
        "      new_y[i] = y[i]\n",
        "    \n",
        "    elif (i == n):\n",
        "      new_y[i] = y[n]\n",
        "    \n",
        "    else:\n",
        "      new_y[i] = 2*y[i]\n",
        "  \n",
        "  somatorio = (h/2) * sum(new_y)\n",
        "  print(\"Intervalos\\n\")\n",
        "  print(x)\n",
        "  print(\"\\nFunção Resultante\\n\")\n",
        "  print(y)\n",
        "  print(\"\\nFunção Utilizando Regra do Trapézio\\n\")\n",
        "  print(new_y)\n",
        "  print(\"\\nSolução\\n\")\n",
        "  print(somatorio)"
      ],
      "execution_count": 0,
      "outputs": []
    },
    {
      "cell_type": "code",
      "metadata": {
        "id": "kIpSmq_B-HzL",
        "colab_type": "code",
        "outputId": "e8ca648e-d1cc-4632-be37-afc9df8078fc",
        "colab": {
          "base_uri": "https://localhost:8080/",
          "height": 0
        }
      },
      "source": [
        "# ## Exercício a\n",
        "print(\"Exercício A\\n\")\n",
        "fx = lambda x: x * math.log(x)\n",
        "Itr(1, 2, fx, 4)\n",
        "\n",
        "print(\"--------------------------------------------------\\n\")\n",
        "\n",
        "## Exercício b\n",
        "print(\"Exercício B\\n\")\n",
        "fx = lambda x: (x**3) * math.exp(x)\n",
        "Itr(-2, 2, fx, 4)\n",
        "\n",
        "print(\"--------------------------------------------------\\n\")\n",
        "\n",
        "print(\"Exercício C\\n\")\n",
        "## Exercício c\n",
        "fx = lambda x: 2 / (x**2 + 4)\n",
        "Itr(0, 2, fx, 6)\n",
        "\n",
        "print(\"--------------------------------------------------\\n\")\n",
        "\n",
        "print(\"Exercício D\\n\")\n",
        "## Exercício d\n",
        "fx = lambda x: x**2 * math.cos(x)\n",
        "Itr(0, 2, fx, 6)\n",
        "\n",
        "print(\"--------------------------------------------------\\n\")\n",
        "\n",
        "print(\"Exercício E\\n\")\n",
        "## Exercício e\n",
        "fx = lambda x: (math.exp(2*x)) * (math.sin(3*x))\n",
        "Itr(0, 2, fx, 8)\n",
        "\n",
        "print(\"--------------------------------------------------\\n\")\n",
        "\n",
        "print(\"Exercício F\\n\")\n",
        "## Exercício f\n",
        "fx = lambda x: 2 / (x**2 + 4)\n",
        "Itr(1, 3, fx, 8)"
      ],
      "execution_count": 4,
      "outputs": [
        {
          "output_type": "stream",
          "text": [
            "Exercício A\n",
            "\n",
            "Intervalos\n",
            "\n",
            "[1.   1.25 1.5  1.75 2.  ]\n",
            "\n",
            "Função Resultante\n",
            "\n",
            "[0.         0.27892944 0.60819766 0.97932763 1.38629436]\n",
            "\n",
            "Função Utilizando Regra do Trapézio\n",
            "\n",
            "[0.         0.55785888 1.21639532 1.95865526 1.38629436]\n",
            "\n",
            "Solução\n",
            "\n",
            "0.639900477687986\n",
            "--------------------------------------------------\n",
            "\n",
            "Exercício B\n",
            "\n",
            "Intervalos\n",
            "\n",
            "[-2. -1.  0.  1.  2.]\n",
            "\n",
            "Função Resultante\n",
            "\n",
            "[-1.08268227 -0.36787944  0.          2.71828183 59.11244879]\n",
            "\n",
            "Função Utilizando Regra do Trapézio\n",
            "\n",
            "[-1.08268227 -0.73575888  0.          5.43656366 59.11244879]\n",
            "\n",
            "Solução\n",
            "\n",
            "31.365285650063754\n",
            "--------------------------------------------------\n",
            "\n",
            "Exercício C\n",
            "\n",
            "Intervalos\n",
            "\n",
            "[0.         0.33333333 0.66666667 1.         1.33333333 1.66666667\n",
            " 2.        ]\n",
            "\n",
            "Função Resultante\n",
            "\n",
            "[0.5        0.48648649 0.45       0.4        0.34615385 0.29508197\n",
            " 0.25      ]\n",
            "\n",
            "Função Utilizando Regra do Trapézio\n",
            "\n",
            "[0.5        0.97297297 0.9        0.8        0.69230769 0.59016393\n",
            " 0.25      ]\n",
            "\n",
            "Solução\n",
            "\n",
            "0.7842407666178157\n",
            "--------------------------------------------------\n",
            "\n",
            "Exercício D\n",
            "\n",
            "Intervalos\n",
            "\n",
            "[0.         0.33333333 0.66666667 1.         1.33333333 1.66666667\n",
            " 2.        ]\n",
            "\n",
            "Função Resultante\n",
            "\n",
            "[ 0.          0.10499522  0.34928323  0.54030231  0.41820013 -0.26589874\n",
            " -1.66458735]\n",
            "\n",
            "Função Utilizando Regra do Trapézio\n",
            "\n",
            "[ 0.          0.20999043  0.69856645  1.08060461  0.83640026 -0.53179749\n",
            " -1.66458735]\n",
            "\n",
            "Solução\n",
            "\n",
            "0.10486282062502479\n",
            "--------------------------------------------------\n",
            "\n",
            "Exercício E\n",
            "\n",
            "Intervalos\n",
            "\n",
            "[0.   0.25 0.5  0.75 1.   1.25 1.5  1.75 2.  ]\n",
            "\n",
            "Função Resultante\n",
            "\n",
            "[  0.           1.12383232   2.7114725    3.48708214   1.04274366\n",
            "  -6.96304231 -19.63421727 -28.44400395 -15.25556929]\n",
            "\n",
            "Função Utilizando Regra do Trapézio\n",
            "\n",
            "[  0.           2.24766465   5.42294499   6.97416428   2.08548731\n",
            " -13.92608463 -39.26843454 -56.88800791 -15.25556929]\n",
            "\n",
            "Solução\n",
            "\n",
            "-13.575979391799388\n",
            "--------------------------------------------------\n",
            "\n",
            "Exercício F\n",
            "\n",
            "Intervalos\n",
            "\n",
            "[1.   1.25 1.5  1.75 2.   2.25 2.5  2.75 3.  ]\n",
            "\n",
            "Função Resultante\n",
            "\n",
            "[0.         0.35955056 0.32       0.28318584 0.25       0.22068966\n",
            " 0.19512195 0.17297297 0.15384615]\n",
            "\n",
            "Função Utilizando Regra do Trapézio\n",
            "\n",
            "[0.         0.71910112 0.64       0.56637168 0.5        0.44137931\n",
            " 0.3902439  0.34594595 0.15384615]\n",
            "\n",
            "Solução\n",
            "\n",
            "0.4696110146984233\n"
          ],
          "name": "stdout"
        }
      ]
    },
    {
      "cell_type": "markdown",
      "metadata": {
        "id": "vjKe53eETNcT",
        "colab_type": "text"
      },
      "source": [
        "# Método 1/3 de Simpson Repetido\n",
        "\n"
      ]
    },
    {
      "cell_type": "code",
      "metadata": {
        "id": "2FBIQUQ_TVcC",
        "colab_type": "code",
        "colab": {}
      },
      "source": [
        "def Isr(a, b, fx, n):\n",
        "  h = (b - a)/n\n",
        "  x = np.zeros(n + 1)\n",
        "  y = np.zeros(n + 1)\n",
        "  new_y = np.zeros(n + 1)\n",
        "  # Construindo o vetor de intervalos para realizar o somatório\n",
        "  x[0] = a\n",
        "  for i in range(a, n + 1):\n",
        "    x[i] = a + (i*h)\n",
        "\n",
        "  for i in range(a, n + 1):\n",
        "    y[i] = fx(x[i])\n",
        "  \n",
        "\n",
        "  for i in range(a, n + 1):\n",
        "    if (i == 0):\n",
        "      new_y[i] = y[i]\n",
        "    \n",
        "    elif (i == n):\n",
        "      new_y[i] = y[n]\n",
        "    \n",
        "    elif ((i%2) == 0):\n",
        "      new_y[i] = 2*y[i]\n",
        "    \n",
        "    else:\n",
        "      new_y[i] = 4*y[i]\n",
        "\n",
        "  somatorio = (h/3) * sum(new_y)\n",
        "  print(\"Intervalos\\n\")\n",
        "  print(x)\n",
        "  print(\"\\nFunção Resultante\\n\")\n",
        "  print(y)\n",
        "  print(\"\\nFunção Utilizando Regra 1/3 de Simpson\\n\")\n",
        "  print(new_y)\n",
        "  print(\"\\nSolução\\n\")\n",
        "  print(somatorio)"
      ],
      "execution_count": 0,
      "outputs": []
    },
    {
      "cell_type": "code",
      "metadata": {
        "id": "WxL0TGpRVsNq",
        "colab_type": "code",
        "outputId": "6f5c24e7-2c95-43f2-e24f-a1247f8be97f",
        "colab": {
          "base_uri": "https://localhost:8080/",
          "height": 0
        }
      },
      "source": [
        "#Teste\n",
        "fx = lambda x: math.exp(x)\n",
        "Isr(0, 1, fx, 10)"
      ],
      "execution_count": 6,
      "outputs": [
        {
          "output_type": "stream",
          "text": [
            "Intervalos\n",
            "\n",
            "[0.  0.1 0.2 0.3 0.4 0.5 0.6 0.7 0.8 0.9 1. ]\n",
            "\n",
            "Função Resultante\n",
            "\n",
            "[1.         1.10517092 1.22140276 1.34985881 1.4918247  1.64872127\n",
            " 1.8221188  2.01375271 2.22554093 2.45960311 2.71828183]\n",
            "\n",
            "Função Utilizando Regra 1/3 de Simpson\n",
            "\n",
            "[1.         4.42068367 2.44280552 5.39943523 2.9836494  6.59488508\n",
            " 3.6442376  8.05501083 4.45108186 9.83841244 2.71828183]\n",
            "\n",
            "Solução\n",
            "\n",
            "1.7182827819248234\n"
          ],
          "name": "stdout"
        }
      ]
    },
    {
      "cell_type": "markdown",
      "metadata": {
        "id": "iB93sKAbNqyR",
        "colab_type": "text"
      },
      "source": [
        "# Lista 11 - MÉTODO 1/3 DE SIMPSON REPETIDA"
      ]
    },
    {
      "cell_type": "code",
      "metadata": {
        "id": "QoG5X6EKPcAa",
        "colab_type": "code",
        "outputId": "30584389-cf4d-4dcc-d699-3296639a75a8",
        "colab": {
          "base_uri": "https://localhost:8080/",
          "height": 0
        }
      },
      "source": [
        "## Aplicando na Lista 10 o método de 1/3 Simpson Repetida\n",
        "\n",
        "## Exercício a\n",
        "print(\"Exercício A\\n\")\n",
        "fx = lambda x: x * math.log(x)\n",
        "Isr(1, 2, fx, 4)\n",
        "\n",
        "print(\"--------------------------------------------------\\n\")\n",
        "\n",
        "## Exercício b\n",
        "print(\"Exercício B\\n\")\n",
        "fx = lambda x: (x**3) * math.exp(x)\n",
        "Isr(-2, 2, fx, 4)\n",
        "\n",
        "print(\"--------------------------------------------------\\n\")\n",
        "\n",
        "print(\"Exercício C\\n\")\n",
        "## Exercício c\n",
        "fx = lambda x: 2 / (x**2 + 4)\n",
        "Isr(0, 2, fx, 6)\n",
        "\n",
        "print(\"--------------------------------------------------\\n\")\n",
        "\n",
        "print(\"Exercício D\\n\")\n",
        "## Exercício d\n",
        "fx = lambda x: x**2 * math.cos(x)\n",
        "Isr(0, 2, fx, 6)\n",
        "\n",
        "print(\"--------------------------------------------------\\n\")\n",
        "\n",
        "print(\"Exercício E\\n\")\n",
        "## Exercício e\n",
        "fx = lambda x: (math.exp(2*x)) * (math.sin(3*x))\n",
        "Isr(0, 2, fx, 8)\n",
        "\n",
        "print(\"--------------------------------------------------\\n\")\n",
        "\n",
        "print(\"Exercício F\\n\")\n",
        "## Exercício f\n",
        "fx = lambda x: 2 / (x**2 + 4)\n",
        "Isr(1, 3, fx, 8)"
      ],
      "execution_count": 7,
      "outputs": [
        {
          "output_type": "stream",
          "text": [
            "Exercício A\n",
            "\n",
            "Intervalos\n",
            "\n",
            "[1.   1.25 1.5  1.75 2.  ]\n",
            "\n",
            "Função Resultante\n",
            "\n",
            "[0.         0.27892944 0.60819766 0.97932763 1.38629436]\n",
            "\n",
            "Função Utilizando Regra 1/3 de Simpson\n",
            "\n",
            "[0.         1.11571776 1.21639532 3.91731052 1.38629436]\n",
            "\n",
            "Solução\n",
            "\n",
            "0.6363098297969493\n",
            "--------------------------------------------------\n",
            "\n",
            "Exercício B\n",
            "\n",
            "Intervalos\n",
            "\n",
            "[-2. -1.  0.  1.  2.]\n",
            "\n",
            "Função Resultante\n",
            "\n",
            "[-1.08268227 -0.36787944  0.          2.71828183 59.11244879]\n",
            "\n",
            "Função Utilizando Regra 1/3 de Simpson\n",
            "\n",
            "[-1.08268227 -1.47151776  0.         10.87312731 59.11244879]\n",
            "\n",
            "Solução\n",
            "\n",
            "22.477125358234236\n",
            "--------------------------------------------------\n",
            "\n",
            "Exercício C\n",
            "\n",
            "Intervalos\n",
            "\n",
            "[0.         0.33333333 0.66666667 1.         1.33333333 1.66666667\n",
            " 2.        ]\n",
            "\n",
            "Função Resultante\n",
            "\n",
            "[0.5        0.48648649 0.45       0.4        0.34615385 0.29508197\n",
            " 0.25      ]\n",
            "\n",
            "Função Utilizando Regra 1/3 de Simpson\n",
            "\n",
            "[0.5        1.94594595 0.9        1.6        0.69230769 1.18032787\n",
            " 0.25      ]\n",
            "\n",
            "Solução\n",
            "\n",
            "0.7853979452340107\n",
            "--------------------------------------------------\n",
            "\n",
            "Exercício D\n",
            "\n",
            "Intervalos\n",
            "\n",
            "[0.         0.33333333 0.66666667 1.         1.33333333 1.66666667\n",
            " 2.        ]\n",
            "\n",
            "Função Resultante\n",
            "\n",
            "[ 0.          0.10499522  0.34928323  0.54030231  0.41820013 -0.26589874\n",
            " -1.66458735]\n",
            "\n",
            "Função Utilizando Regra 1/3 de Simpson\n",
            "\n",
            "[ 0.          0.41998087  0.69856645  2.16120922  0.83640026 -1.06359498\n",
            " -1.66458735]\n",
            "\n",
            "Solução\n",
            "\n",
            "0.15421938655911804\n",
            "--------------------------------------------------\n",
            "\n",
            "Exercício E\n",
            "\n",
            "Intervalos\n",
            "\n",
            "[0.   0.25 0.5  0.75 1.   1.25 1.5  1.75 2.  ]\n",
            "\n",
            "Função Resultante\n",
            "\n",
            "[  0.           1.12383232   2.7114725    3.48708214   1.04274366\n",
            "  -6.96304231 -19.63421727 -28.44400395 -15.25556929]\n",
            "\n",
            "Função Utilizando Regra 1/3 de Simpson\n",
            "\n",
            "[   0.            4.49532929    5.42294499   13.94832857    2.08548731\n",
            "  -27.85216926  -39.26843454 -113.77601581  -15.25556929]\n",
            "\n",
            "Solução\n",
            "\n",
            "-14.183341561446696\n",
            "--------------------------------------------------\n",
            "\n",
            "Exercício F\n",
            "\n",
            "Intervalos\n",
            "\n",
            "[1.   1.25 1.5  1.75 2.   2.25 2.5  2.75 3.  ]\n",
            "\n",
            "Função Resultante\n",
            "\n",
            "[0.         0.35955056 0.32       0.28318584 0.25       0.22068966\n",
            " 0.19512195 0.17297297 0.15384615]\n",
            "\n",
            "Função Utilizando Regra 1/3 de Simpson\n",
            "\n",
            "[0.         1.43820225 0.64       1.13274336 0.5        0.88275862\n",
            " 0.3902439  0.69189189 0.15384615]\n",
            "\n",
            "Solução\n",
            "\n",
            "0.48580718157413294\n"
          ],
          "name": "stdout"
        }
      ]
    },
    {
      "cell_type": "markdown",
      "metadata": {
        "id": "-BbDZiCPb8JE",
        "colab_type": "text"
      },
      "source": [
        "# Método 3/8 de Simpson Repetido"
      ]
    },
    {
      "cell_type": "code",
      "metadata": {
        "id": "GRO_f-9dcBTt",
        "colab_type": "code",
        "colab": {}
      },
      "source": [
        "def Isr3_8(a, b, fx, n):\n",
        "  h = (b - a)/n\n",
        "  x = np.zeros(n + 1)\n",
        "  y = np.zeros(n + 1)\n",
        "  new_y = np.zeros(n + 1)\n",
        "\n",
        "  x[0] = a\n",
        "  for i in range(0, n + 1):\n",
        "    x[i] = a + (i*h)\n",
        "  \n",
        "  for i in range(0, n + 1):\n",
        "    y[i] = fx(x[i])\n",
        "  \n",
        "  for i in range(0, n + 1):\n",
        "    if(i == 0):\n",
        "      new_y[i] = y[i]\n",
        "    \n",
        "    elif(i == n):\n",
        "      new_y[i] = y[n]\n",
        "\n",
        "    elif(i == 1 or i == 2):\n",
        "      new_y[i] = 3*y[i]\n",
        "\n",
        "    elif((i%3) == 0):\n",
        "      new_y[i] = 3*y[i]\n",
        "\n",
        "    else:\n",
        "      new_y[i] = 2*y[i]\n",
        "\n",
        "\n",
        "  somatorio = (3/8 * h) * (sum(new_y))\n",
        "  print(\"Intervalos\\n\")\n",
        "  print(x)\n",
        "  print(\"\\nFunção Resultante\\n\")\n",
        "  print(y)\n",
        "  print(\"\\nFunção Utilizando Regra 3/8 de Simpson\\n\")\n",
        "  print(new_y)\n",
        "  print(\"\\nSolução\\n\")\n",
        "  print(somatorio)\n",
        "\n"
      ],
      "execution_count": 0,
      "outputs": []
    },
    {
      "cell_type": "code",
      "metadata": {
        "id": "PqUV0qe1q3Au",
        "colab_type": "code",
        "outputId": "9117abf2-290b-49c0-e788-6b3bb6a46b1e",
        "colab": {
          "base_uri": "https://localhost:8080/",
          "height": 0
        }
      },
      "source": [
        "#teste\n",
        "fx = lambda x: 1/x\n",
        "Isr3_8(1, 3, fx, 3)"
      ],
      "execution_count": 9,
      "outputs": [
        {
          "output_type": "stream",
          "text": [
            "Intervalos\n",
            "\n",
            "[1.         1.66666667 2.33333333 3.        ]\n",
            "\n",
            "Função Resultante\n",
            "\n",
            "[1.         0.6        0.42857143 0.33333333]\n",
            "\n",
            "Função Utilizando Regra 3/8 de Simpson\n",
            "\n",
            "[1.         1.8        1.28571429 0.33333333]\n",
            "\n",
            "Solução\n",
            "\n",
            "1.1047619047619048\n"
          ],
          "name": "stdout"
        }
      ]
    },
    {
      "cell_type": "markdown",
      "metadata": {
        "id": "sDPvtPf9NYik",
        "colab_type": "text"
      },
      "source": [
        "# Lista 11 - METODO 3/8 SIMPSON REPETIDO"
      ]
    },
    {
      "cell_type": "code",
      "metadata": {
        "id": "TE2okTpvr1D_",
        "colab_type": "code",
        "outputId": "f7875334-42bc-4d80-8d13-92dd7ead4315",
        "colab": {
          "base_uri": "https://localhost:8080/",
          "height": 0
        }
      },
      "source": [
        "## Aplicando na Lista 10 o método de 3/8 Simpson Repetida\n",
        "\n",
        "## Exercício a\n",
        "print(\"Exercício A\\n\")\n",
        "fx = lambda x: x * math.log(x)\n",
        "Isr3_8(1, 2, fx, 4)\n",
        "\n",
        "print(\"--------------------------------------------------\\n\")\n",
        "\n",
        "## Exercício b\n",
        "print(\"Exercício B\\n\")\n",
        "fx = lambda x: (x**3) * math.exp(x)\n",
        "Isr3_8(-2, 2, fx, 4)\n",
        "\n",
        "print(\"--------------------------------------------------\\n\")\n",
        "\n",
        "## Exercício c\n",
        "print(\"Exercício C\\n\")\n",
        "fx = lambda x: 2 / (x**2 + 4)\n",
        "Isr3_8(0, 2, fx, 6)\n",
        "\n",
        "\n",
        "print(\"--------------------------------------------------\\n\")\n",
        "\n",
        "print(\"Exercício D\\n\")\n",
        "## Exercício d\n",
        "fx = lambda x: x**2 * math.cos(x)\n",
        "Isr3_8(0, 2, fx, 6)\n",
        "\n",
        "print(\"--------------------------------------------------\\n\")\n",
        "\n",
        "print(\"Exercício E\\n\")\n",
        "## Exercício e\n",
        "fx = lambda x: (math.exp(2*x)) * (math.sin(3*x))\n",
        "Isr3_8(0, 2, fx, 8)\n",
        "\n",
        "print(\"--------------------------------------------------\\n\")\n",
        "\n",
        "print(\"Exercício F\\n\")\n",
        "## Exercício f\n",
        "fx = lambda x: 2 / (x**2 + 4)\n",
        "Isr3_8(1, 3, fx, 8)"
      ],
      "execution_count": 10,
      "outputs": [
        {
          "output_type": "stream",
          "text": [
            "Exercício A\n",
            "\n",
            "Intervalos\n",
            "\n",
            "[1.   1.25 1.5  1.75 2.  ]\n",
            "\n",
            "Função Resultante\n",
            "\n",
            "[0.         0.27892944 0.60819766 0.97932763 1.38629436]\n",
            "\n",
            "Função Utilizando Regra 3/8 de Simpson\n",
            "\n",
            "[0.         0.83678832 1.82459299 2.93798289 1.38629436]\n",
            "\n",
            "Solução\n",
            "\n",
            "0.6549054892214894\n",
            "--------------------------------------------------\n",
            "\n",
            "Exercício B\n",
            "\n",
            "Intervalos\n",
            "\n",
            "[-2. -1.  0.  1.  2.]\n",
            "\n",
            "Função Resultante\n",
            "\n",
            "[-1.08268227 -0.36787944  0.          2.71828183 59.11244879]\n",
            "\n",
            "Função Utilizando Regra 3/8 de Simpson\n",
            "\n",
            "[-1.08268227 -1.10363832  0.          8.15484549 59.11244879]\n",
            "\n",
            "Solução\n",
            "\n",
            "24.405365132780666\n",
            "--------------------------------------------------\n",
            "\n",
            "Exercício C\n",
            "\n",
            "Intervalos\n",
            "\n",
            "[0.         0.33333333 0.66666667 1.         1.33333333 1.66666667\n",
            " 2.        ]\n",
            "\n",
            "Função Resultante\n",
            "\n",
            "[0.5        0.48648649 0.45       0.4        0.34615385 0.29508197\n",
            " 0.25      ]\n",
            "\n",
            "Função Utilizando Regra 3/8 de Simpson\n",
            "\n",
            "[0.5        1.45945946 1.35       1.2        0.69230769 0.59016393\n",
            " 0.25      ]\n",
            "\n",
            "Solução\n",
            "\n",
            "0.7552413857741727\n",
            "--------------------------------------------------\n",
            "\n",
            "Exercício D\n",
            "\n",
            "Intervalos\n",
            "\n",
            "[0.         0.33333333 0.66666667 1.         1.33333333 1.66666667\n",
            " 2.        ]\n",
            "\n",
            "Função Resultante\n",
            "\n",
            "[ 0.          0.10499522  0.34928323  0.54030231  0.41820013 -0.26589874\n",
            " -1.66458735]\n",
            "\n",
            "Função Utilizando Regra 3/8 de Simpson\n",
            "\n",
            "[ 0.          0.31498565  1.04784968  1.62090692  0.83640026 -0.53179749\n",
            " -1.66458735]\n",
            "\n",
            "Solução\n",
            "\n",
            "0.2029697091109323\n",
            "--------------------------------------------------\n",
            "\n",
            "Exercício E\n",
            "\n",
            "Intervalos\n",
            "\n",
            "[0.   0.25 0.5  0.75 1.   1.25 1.5  1.75 2.  ]\n",
            "\n",
            "Função Resultante\n",
            "\n",
            "[  0.           1.12383232   2.7114725    3.48708214   1.04274366\n",
            "  -6.96304231 -19.63421727 -28.44400395 -15.25556929]\n",
            "\n",
            "Função Utilizando Regra 3/8 de Simpson\n",
            "\n",
            "[  0.           3.37149697   8.13441749  10.46124643   2.08548731\n",
            " -13.92608463 -58.90265182 -56.88800791 -15.25556929]\n",
            "\n",
            "Solução\n",
            "\n",
            "-11.336218635489457\n",
            "--------------------------------------------------\n",
            "\n",
            "Exercício F\n",
            "\n",
            "Intervalos\n",
            "\n",
            "[1.   1.25 1.5  1.75 2.   2.25 2.5  2.75 3.  ]\n",
            "\n",
            "Função Resultante\n",
            "\n",
            "[0.4        0.35955056 0.32       0.28318584 0.25       0.22068966\n",
            " 0.19512195 0.17297297 0.15384615]\n",
            "\n",
            "Função Utilizando Regra 3/8 de Simpson\n",
            "\n",
            "[0.4        1.07865169 0.96       0.84955752 0.5        0.44137931\n",
            " 0.58536585 0.34594595 0.15384615]\n",
            "\n",
            "Solução\n",
            "\n",
            "0.4982574816855577\n"
          ],
          "name": "stdout"
        }
      ]
    },
    {
      "cell_type": "markdown",
      "metadata": {
        "id": "EZcHWMBE6KZM",
        "colab_type": "text"
      },
      "source": [
        "# Diferenciação Numérica\n",
        "\n",
        "1.   Método de Euler\n",
        "2.   Método de Runge-Kutta de Segunda e Quarta Ordem\n",
        "\n",
        "Todos esses métodos são para resolver métodos de equações diferenciais\n",
        "\n"
      ]
    },
    {
      "cell_type": "markdown",
      "metadata": {
        "id": "EEr2EsX26XvF",
        "colab_type": "text"
      },
      "source": [
        "## Método de Euler"
      ]
    },
    {
      "cell_type": "code",
      "metadata": {
        "id": "-g2cmzv36ai6",
        "colab_type": "code",
        "colab": {}
      },
      "source": [
        "def Euler(fxy, a, b, n, x0, y0):\n",
        "  h = (b - a)/ n\n",
        "  x = np.zeros(n+1)\n",
        "  y = np.zeros(n+1)\n",
        "  func = np.zeros(n+1)\n",
        "  x[0] = x0\n",
        "  y[0] = y0\n",
        "  \n",
        "  for i in range(x0, n):\n",
        "    x[i+1] = x[i] + h\n",
        "    y[i+1] = y[i] + h*fxy(x[i], y[i])\n",
        "    func[i + 1] = fxy(x[i + 1], y[i + 1])\n",
        "  \n",
        "  #Saídas do Método de Euler\n",
        "  plt.plot(x, y, '--', label = 'h = %.2f' %(h))\n",
        "  plt.legend(loc = 'upper center', bbox_to_anchor = (0.5, 1.00), shadow = True, ncol = 2)\n",
        "  zippedList = list(zip(x, y, func))\n",
        "  saidas_pandas = pd.DataFrame(zippedList, columns=['Xk', 'Yk', 'Função'])\n",
        "\n",
        "  print(saidas_pandas)\n",
        "  "
      ],
      "execution_count": 0,
      "outputs": []
    },
    {
      "cell_type": "code",
      "metadata": {
        "id": "Fk2K3bVyJlAQ",
        "colab_type": "code",
        "colab": {}
      },
      "source": [
        "def Euler_primeira_ordem(fxy, a, b, n, x0, y0):\n",
        "  h = (b - a)/ n\n",
        "  x = np.zeros(n+1)\n",
        "  y = np.zeros(n+1)\n",
        "  p = np.zeros(n+1)\n",
        "  q = np.zeros(n+1)\n",
        "  #func = np.zeros(n+1)\n",
        "  x[0] = x0\n",
        "  y[0] = y0\n",
        "  p[0] = h*fxy(y[0])\n",
        "  q[0] = h*fxy(y[0] + p[0])\n",
        "  for i in range(x0, n):\n",
        "    x[i+1] = x[i] + h\n",
        "    p[i] = h*fxy(y[i])\n",
        "    q[i] = h*fxy(y[i] + p[i])\n",
        "    y[i+1] = y[i] + h*(p[i] + q[i])\n",
        "    \n",
        "  #Saídas do Método de Euler\n",
        "  zippedList = list(zip(x, y))\n",
        "  saidas_pandas = pd.DataFrame(zippedList, columns=['Xk', 'Yk'])\n",
        "\n",
        "  print(saidas_pandas)"
      ],
      "execution_count": 0,
      "outputs": []
    },
    {
      "cell_type": "code",
      "metadata": {
        "id": "yO6qMpX4nmnL",
        "colab_type": "code",
        "colab": {}
      },
      "source": [
        "def Euler_primeira_ordem(fxy, a, b, n, x0, y0):\n",
        "  h = (b - a)/ n\n",
        "  x = np.zeros(n+1)\n",
        "  y = np.zeros(n+1)\n",
        "  p = np.zeros(n+1)\n",
        "  q = np.zeros(n+1)\n",
        "  #func = np.zeros(n+1)\n",
        "  x[0] = x0\n",
        "  y[0] = y0\n",
        "  p[0] = h*fxy(y[0])\n",
        "  q[0] = h*fxy(y[0] + p[0])\n",
        "  for i in range(x0, n):\n",
        "    x[i+1] = x[i] + h\n",
        "    p[i] = h*fxy(y[i])\n",
        "    q[i] = h*fxy(y[i] + p[i])\n",
        "    y[i+1] = y[i] + h*(p[i] + q[i])\n",
        "    \n",
        "  #Saídas do Método de Euler\n",
        "  zippedList = list(zip(x, y))\n",
        "  saidas_pandas = pd.DataFrame(zippedList, columns=['Xk', 'Yk'])\n",
        "\n",
        "  print(saidas_pandas)"
      ],
      "execution_count": 0,
      "outputs": []
    },
    {
      "cell_type": "code",
      "metadata": {
        "id": "WZuTGVLXuL0n",
        "colab_type": "code",
        "colab": {}
      },
      "source": [
        "def eulerSegundaQuestao(fxy, a, h, x0, y0):\n",
        "  x = []\n",
        "  y = []\n",
        "  func = []\n",
        "  i = a\n",
        "  x.append(x0)\n",
        "  y.append(y0)\n",
        "\n",
        "  while(y[i] > 0):\n",
        "    x.append(x[i] + h)\n",
        "    func.append(fxy(y[i]))\n",
        "    y.append(y[i] + h*fxy(y[i]))\n",
        "    i += 1\n",
        "\n",
        "  #Saídas do Método de Euler\n",
        "  # plt.plot(x, y, '--', label = 'h = %.2f' %(h))\n",
        "  # plt.legend(loc = 'upper center', bbox_to_anchor = (0.5, 1.00), shadow = True, ncol = 2)\n",
        "  zippedList = list(zip(x, y, func))\n",
        "  saidas_pandas = pd.DataFrame(zippedList, columns=['Xk', 'Yk', 'Função'])\n",
        "\n",
        "  print(saidas_pandas)"
      ],
      "execution_count": 0,
      "outputs": []
    },
    {
      "cell_type": "code",
      "metadata": {
        "id": "90UarCgpE9hd",
        "colab_type": "code",
        "outputId": "473d3c3c-fe5e-43e3-abda-c93c65bba3e6",
        "colab": {
          "base_uri": "https://localhost:8080/"
        }
      },
      "source": [
        "# Teste\n",
        "fxy = lambda x, y: -x*y\n",
        "Euler (fxy, 0, 1, 10, 0, 1)"
      ],
      "execution_count": 0,
      "outputs": [
        {
          "output_type": "stream",
          "text": [
            "     Xk        Yk    Função\n",
            "0   0.0  1.000000  0.000000\n",
            "1   0.1  1.000000 -0.100000\n",
            "2   0.2  0.990000 -0.198000\n",
            "3   0.3  0.970200 -0.291060\n",
            "4   0.4  0.941094 -0.376438\n",
            "5   0.5  0.903450 -0.451725\n",
            "6   0.6  0.858278 -0.514967\n",
            "7   0.7  0.806781 -0.564747\n",
            "8   0.8  0.750306 -0.600245\n",
            "9   0.9  0.690282 -0.621254\n",
            "10  1.0  0.628157 -0.628157\n"
          ],
          "name": "stdout"
        },
        {
          "output_type": "display_data",
          "data": {
            "image/png": "[encoded data removed]",
            "text/plain": [
              "<Figure size 432x288 with 1 Axes>"
            ]
          },
          "metadata": {
            "tags": []
          }
        }
      ]
    },
    {
      "cell_type": "markdown",
      "metadata": {
        "id": "fW4ufPzaUpjs",
        "colab_type": "text"
      },
      "source": [
        "## Método de Runge-Kutta (Segunda Ordem)"
      ]
    },
    {
      "cell_type": "code",
      "metadata": {
        "id": "4yFNz_6aVBG9",
        "colab_type": "code",
        "colab": {}
      },
      "source": [
        "def rungeKuttaSegunda(fxy, a, b, n, x0, y0):\n",
        "  #Inicialização dos vetores para realização dos cálculos\n",
        "  h = (b - a)/n\n",
        "  x = np.zeros(n)\n",
        "  y = np.zeros(n)\n",
        "  k1 = np.zeros(n)\n",
        "  k2 = np.zeros(n)\n",
        "  x[0] = x0\n",
        "  y[0] = y0\n",
        "  k1[0] = fxy(x[0], y[0])\n",
        "  k2[0] = (-(x[0] + h))*(y[0] +(h*k1[0]))\n",
        "\n",
        "  '''\n",
        "  Será feito o método apresentado em aula hoje com o intuito de chegar no valor mais aproximado do \n",
        "  da derivação das funções, assim realizando uma operação de uma EDO. Estaremos fazendo por aproximações esse método \n",
        "  por utilizar da média dos intervalos passados como parametros:\n",
        "\n",
        "        h/2 => por ser de segunda ordem\n",
        "  \n",
        "  quanto menor o valor do h mais preciso esse valor final da função se aproximará do desejado, então notamos que se quando aumentamos as interações\n",
        "  do meu método mais vezes realiza a função para mais pontos associados\n",
        "  \n",
        "  '''\n",
        "\n",
        "  #Realização das interações para o método de Runge-Kutta\n",
        "  for i in range(x0, n - 1):\n",
        "    x[i + 1] = x[i] + h\n",
        "    y[i + 1] = y[i] + ((h/2)*(k1[i]+k2[i]))\n",
        "    k1[i + 1] = fxy(x[i + 1], y[i + 1])\n",
        "    k2[i + 1] = (-(x[i+1] + h))*(y[i+1]+h*k1[i+1])\n",
        "  \n",
        "  zippedlist = list(zip(x, y, k1 ,k2))\n",
        "  pandas_saida = pd.DataFrame(zippedlist, columns=['Xk', 'Yk', 'K1', 'K2'])\n",
        "  print(pandas_saida)"
      ],
      "execution_count": 0,
      "outputs": []
    },
    {
      "cell_type": "code",
      "metadata": {
        "id": "MlsjAC4T-3uB",
        "colab_type": "code",
        "colab": {}
      },
      "source": [
        "def RK2(fxy, a, b, n, x0, y0):\n",
        "  h = (b - a)/ n\n",
        "  x = np.zeros(n+1)\n",
        "  y = np.zeros(n+1)\n",
        "  p = np.zeros(n+1)\n",
        "  q = np.zeros(n+1)\n",
        "  #func = np.zeros(n+1)\n",
        "  x[0] = x0\n",
        "  y[0] = y0\n",
        "  p[0] = h*fxy(y[0])\n",
        "  q[0] = h*fxy(y[0] + p[0])\n",
        "  for i in range(x0, n):\n",
        "    x[i+1] = x[i] + h\n",
        "    p[i] = h*fxy(y[i])\n",
        "    q[i] = h*fxy(y[i] + p[i])\n",
        "    y[i+1] = y[i] + (h/2)*(p[i] + q[i])\n",
        "\n",
        "  zippedList = list(zip(x, y, p, q))\n",
        "  saidas_pandas = pd.DataFrame(zippedList, columns=['Xk', 'Yk', 'P', 'Q'])\n",
        "\n",
        "  print(saidas_pandas)"
      ],
      "execution_count": 0,
      "outputs": []
    },
    {
      "cell_type": "markdown",
      "metadata": {
        "id": "WgODEZQoIsVK",
        "colab_type": "text"
      },
      "source": [
        "## Questão 2 - Função Modificada Metodo de Runge-Kutta (Segunda Ordem)"
      ]
    },
    {
      "cell_type": "code",
      "metadata": {
        "id": "RaKW9xtl8kVT",
        "colab_type": "code",
        "colab": {}
      },
      "source": [
        "def rungeKuttaSegunda_q2(fxy, h, x0, y0):\n",
        "  #Inicialização dos vetores para realização dos cálculos\n",
        "  x = []\n",
        "  y = []\n",
        "  k1 = []\n",
        "  k2 = []\n",
        "  i = 0\n",
        "  x.append(x0)\n",
        "  y.append(y0)\n",
        "  \n",
        "  '''\n",
        "  Será feito o método apresentado em aula hoje com o intuito de chegar no valor mais aproximado do \n",
        "  da derivação das funções, assim realizando uma operação de uma EDO. Estaremos fazendo por aproximações esse método \n",
        "  por utilizar da média dos intervalos passados como parametros:\n",
        "\n",
        "        h/2 => por ser de segunda ordem\n",
        "  \n",
        "  quanto menor o valor do h mais preciso esse valor final da função se aproximará do desejado, então notamos que se quando aumentamos as interações\n",
        "  do meu método mais vezes realiza a função para mais pontos associados\n",
        "  \n",
        "  '''\n",
        "\n",
        "  #Realização das interações para o método de Runge-Kutta\n",
        "  while (y[i] > 0.01):\n",
        "    k1.append(fxy(y[i]))\n",
        "    k2.append(fxy(y[i] + (k1[i]*h)))\n",
        "    x.append(x[i] + h)\n",
        "    y.append(y[i] + ((h/2)*(k1[i]+k2[i])))\n",
        "    i+=1\n",
        "\n",
        "\n",
        "  zippedlist = list(zip(x, y, k1 ,k2))\n",
        "  pandas_saida = pd.DataFrame(zippedlist, columns=['Xk', 'Yk', 'K1', 'K2'])\n",
        "  print(pandas_saida)"
      ],
      "execution_count": 0,
      "outputs": []
    },
    {
      "cell_type": "code",
      "metadata": {
        "id": "jcRQKVV7YifA",
        "colab_type": "code",
        "outputId": "5248b0b2-19ae-4b6b-955f-244db3fa27d8",
        "colab": {
          "base_uri": "https://localhost:8080/"
        }
      },
      "source": [
        "# Teste\n",
        "fxy = lambda x, y: -x*y\n",
        "rungeKuttaSegunda(fxy, 0, 1, 10, 0, 1)"
      ],
      "execution_count": 0,
      "outputs": [
        {
          "output_type": "stream",
          "text": [
            "    Xk        Yk        K1        K2\n",
            "0  0.0  1.000000 -0.000000 -0.100000\n",
            "1  0.1  0.995000 -0.099500 -0.197010\n",
            "2  0.2  0.980174 -0.196035 -0.288171\n",
            "3  0.3  0.955964 -0.286789 -0.370914\n",
            "4  0.4  0.923079 -0.369232 -0.443078\n",
            "5  0.5  0.882464 -0.441232 -0.503004\n",
            "6  0.6  0.835252 -0.501151 -0.549596\n",
            "7  0.7  0.782714 -0.547900 -0.582340\n",
            "8  0.8  0.726202 -0.580962 -0.601296\n",
            "9  0.9  0.667090 -0.600381 -0.607051\n"
          ],
          "name": "stdout"
        }
      ]
    },
    {
      "cell_type": "markdown",
      "metadata": {
        "id": "FT8RB2ubimkN",
        "colab_type": "text"
      },
      "source": [
        "## Método de Runge-Kutta (Quarta Ordem)\n"
      ]
    },
    {
      "cell_type": "code",
      "metadata": {
        "id": "Kt1QFijVfgnm",
        "colab_type": "code",
        "colab": {}
      },
      "source": [
        "def rungeKuttaQuarta(fxy, a, b, n, x0, y0):\n",
        "  #Inicialização dos vetores para realização dos cálculos\n",
        "  h = (b - a)/n\n",
        "  x = np.zeros(n)\n",
        "  y = np.zeros(n)\n",
        "  k1 = np.zeros(n)\n",
        "  k2 = np.zeros(n)\n",
        "  k3 = np.zeros(n)\n",
        "  k4 = np.zeros(n)\n",
        "\n",
        "\n",
        "  y[0] = y0\n",
        "  x[0] = x0\n",
        "  k1[0] = fxy(x[0], y[0])\n",
        "  k2[0] = fxy(x[0]+(h/2), y[0] + k1[0]*(h/2))\n",
        "  k3[0] = fxy(x[0]+(h/2), y[0] + k2[0]*(h/2))\n",
        "  k4[0] = fxy(x[0]+h, y[0] + k3[0]*h)\n",
        "\n",
        "  for i in range (x0, n - 1):\n",
        "    x[i+1] = x[i] + h\n",
        "    y[i+1] = y[i] + (h/6)*(k1[i] + 2*k2[i] + 2*k3[i] + k4[i])\n",
        "    k1[i+1] = fxy(x[i+1], y[i+1])\n",
        "    k2[i+1] = fxy(x[i+1]+(h/2), y[i+1] + k1[i+1]*(h/2))\n",
        "    k3[i+1] = fxy(x[i+1]+(h/2), y[i+1] + k2[i+1]*(h/2))\n",
        "    k4[i+1] = fxy(x[i+1]+h, y[i+1] + k3[i+1]*h)\n",
        "\n",
        "  plt.plot(x, y, '--', label = 'h = %.2f' %(h))\n",
        "  plt.legend(loc = 'upper center', bbox_to_anchor = (0.5, 1.00), shadow = True, ncol = 2)\n",
        "\n",
        "  zippedList = list(zip(x, y, k1, k2, k3, k4))\n",
        "  pandas_saida = pd.DataFrame(zippedList, columns=['Xk', 'Yk', 'K1', 'K2', 'K3', 'K4'])\n",
        "  print(pandas_saida)   "
      ],
      "execution_count": 0,
      "outputs": []
    },
    {
      "cell_type": "code",
      "metadata": {
        "id": "s3SdOCwKirmr",
        "colab_type": "code",
        "colab": {}
      },
      "source": [
        "def RK4(fxy, a, b, n, x0, y0):\n",
        "  h = (b - a)/ n\n",
        "  x = np.zeros(n+1)\n",
        "  y = np.zeros(n+1)\n",
        "  p = np.zeros(n+1)\n",
        "  q = np.zeros(n+1)\n",
        "  #func = np.zeros(n+1)\n",
        "  x[0] = x0\n",
        "  y[0] = y0\n",
        "  p[0] = h*fxy(y[0])\n",
        "  q[0] = h*fxy(y[0] + p[0])\n",
        "  for i in range(x0, n):\n",
        "    x[i+1] = x[i] + h\n",
        "    p[i] = h*fxy(y[i])\n",
        "    q[i] = h*fxy(y[i] + p[i])\n",
        "    y[i+1] = y[i] + (h/6)*(p[i] + q[i])\n",
        "\n",
        "  zippedList = list(zip(x, y, p, q))\n",
        "  saidas_pandas = pd.DataFrame(zippedList, columns=['Xk', 'Yk', 'P', 'Q'])\n",
        "\n",
        "  print(saidas_pandas)"
      ],
      "execution_count": 0,
      "outputs": []
    },
    {
      "cell_type": "code",
      "metadata": {
        "id": "NshwSIoiyMs4",
        "colab_type": "code",
        "outputId": "8218ab96-ee49-48cc-e431-5e7266ccf23c",
        "colab": {
          "base_uri": "https://localhost:8080/"
        }
      },
      "source": [
        "# Teste\n",
        "fxy = lambda x, y: -x*y\n",
        "rungeKuttaQuarta(fxy, 0, 1, 10, 0, 1)"
      ],
      "execution_count": 0,
      "outputs": [
        {
          "output_type": "stream",
          "text": [
            "    Xk        Yk        K1        K2        K3        K4\n",
            "0  0.0  1.000000 -0.000000 -0.050000 -0.049875 -0.099501\n",
            "1  0.1  0.995012 -0.099501 -0.148506 -0.148138 -0.196040\n",
            "2  0.2  0.980199 -0.196040 -0.242599 -0.242017 -0.286799\n",
            "3  0.3  0.955997 -0.286799 -0.329580 -0.328831 -0.369246\n",
            "4  0.4  0.923116 -0.369247 -0.407094 -0.406243 -0.441246\n",
            "5  0.5  0.882497 -0.441248 -0.473239 -0.472359 -0.501157\n",
            "6  0.6  0.835270 -0.501162 -0.526638 -0.525810 -0.547882\n",
            "7  0.7  0.782705 -0.547893 -0.566482 -0.565785 -0.580901\n",
            "8  0.8  0.726149 -0.580919 -0.592538 -0.592044 -0.600250\n",
            "9  0.9  0.666977 -0.600279 -0.605115 -0.604885 -0.606488\n"
          ],
          "name": "stdout"
        },
        {
          "output_type": "display_data",
          "data": {
            "image/png": "[encoded data removed]",
            "text/plain": [
              "<Figure size 432x288 with 1 Axes>"
            ]
          },
          "metadata": {
            "tags": []
          }
        }
      ]
    },
    {
      "cell_type": "markdown",
      "metadata": {
        "id": "1PYpqgniLD-x",
        "colab_type": "text"
      },
      "source": [
        "## Questão 2 - Função Modificada Método de Runge-Kutta (Quarta Ordem)"
      ]
    },
    {
      "cell_type": "code",
      "metadata": {
        "id": "2CVbpCxuLo1J",
        "colab_type": "code",
        "colab": {}
      },
      "source": [
        "def rungeKuttaQuarta_q2(fxy, h, x0, y0):\n",
        "  x = []\n",
        "  y = []\n",
        "  k1 = []\n",
        "  k2 = []\n",
        "  k3 = []\n",
        "  k4 = []\n",
        "  x.append(x0)\n",
        "  y.append(y0)\n",
        "\n",
        "  i = 0\n",
        "\n",
        "  while(y[i] > 0.01):\n",
        "    k1.append(fxy(y[i]))\n",
        "    k2.append(fxy(y[i] + (k1[i] * (h/2))))\n",
        "    k3.append(fxy(y[i] + (k2[i] * (h/2))))\n",
        "    k4.append(fxy(y[i] + (k3[i] * h)))\n",
        "    y.append(y[i] + ((h/6) * (k1[i] + (2*k2[i]) + (2*k3[i]) + k4[i])))\n",
        "    x.append(x[i] + h)\n",
        "    i+=1\n",
        "\n",
        "  \n",
        "  zippedlist = list(zip(x, y, k1 ,k2, k3, k4))\n",
        "  pandas_saida = pd.DataFrame(zippedlist, columns=['Xk', 'Yk', 'K1', 'K2', 'K3', 'K4'])\n",
        "  print(pandas_saida)\n",
        "  "
      ],
      "execution_count": 0,
      "outputs": []
    },
    {
      "cell_type": "markdown",
      "metadata": {
        "id": "ZvTU5OFxqnlK",
        "colab_type": "text"
      },
      "source": [
        "# Lista 12 - Exercícios 1, 2, 3 (Euler)"
      ]
    },
    {
      "cell_type": "code",
      "metadata": {
        "id": "zPs2wK2mqvrr",
        "colab_type": "code",
        "outputId": "6ac96631-111e-4b5f-999d-3c610a6d7128",
        "colab": {
          "base_uri": "https://localhost:8080/"
        }
      },
      "source": [
        "print('Questão 1')\n",
        "# Questão 1\n",
        "fxy = lambda y: (2*y)*((92-y)/92)\n",
        "Euler_primeira_ordem(fxy, 0, 3, 3, 0, 10)\n",
        "print('---------------------------------')\n",
        "print('Questão 2')\n",
        "fxy = lambda y: -k * math.sqrt(y)\n",
        "k = 0.06\n",
        "eulerSegundaQuestao(fxy, 0, 0.5, 0, 3)\n",
        "print('---------------------------------')\n",
        "print('Questão 3')\n",
        "# Questão 3\n",
        "fxy = lambda x, y: y*(x**2) - y\n",
        "Euler (fxy, 0, 2, 4, 0, 1)\n",
        "print('---------------------------------')\n",
        "Euler (fxy, 0, 2, 8, 0, 1)"
      ],
      "execution_count": 0,
      "outputs": [
        {
          "output_type": "stream",
          "text": [
            "Questão 1\n",
            "    Xk         Yk\n",
            "0  0.0  10.000000\n",
            "1  1.0  66.645845\n",
            "2  2.0  77.805403\n",
            "3  3.0  80.091557\n",
            "---------------------------------\n",
            "Questão 2\n",
            "       Xk        Yk    Função\n",
            "0     0.0  3.000000 -0.103923\n",
            "1     0.5  2.948038 -0.103019\n",
            "2     1.0  2.896529 -0.102115\n",
            "3     1.5  2.845471 -0.101211\n",
            "4     2.0  2.794866 -0.100307\n",
            "..    ...       ...       ...\n",
            "108  54.0  0.008077 -0.005392\n",
            "109  54.5  0.005381 -0.004401\n",
            "110  55.0  0.003180 -0.003383\n",
            "111  55.5  0.001488 -0.002315\n",
            "112  56.0  0.000331 -0.001091\n",
            "\n",
            "[113 rows x 3 columns]\n",
            "---------------------------------\n",
            "Questão 3\n",
            "    Xk        Yk    Função\n",
            "0  0.0  1.000000  0.000000\n",
            "1  0.5  0.500000 -0.375000\n",
            "2  1.0  0.312500  0.000000\n",
            "3  1.5  0.312500  0.390625\n",
            "4  2.0  0.507812  1.523438\n",
            "---------------------------------\n",
            "     Xk        Yk    Função\n",
            "0  0.00  1.000000  0.000000\n",
            "1  0.25  0.750000 -0.703125\n",
            "2  0.50  0.574219 -0.430664\n",
            "3  0.75  0.466553 -0.204117\n",
            "4  1.00  0.415524  0.000000\n",
            "5  1.25  0.415524  0.233732\n",
            "6  1.50  0.473957  0.592446\n",
            "7  1.75  0.622068  1.283015\n",
            "8  2.00  0.942822  2.828465\n"
          ],
          "name": "stdout"
        },
        {
          "output_type": "display_data",
          "data": {
            "image/png": "[encoded data removed]",
            "text/plain": [
              "<Figure size 432x288 with 1 Axes>"
            ]
          },
          "metadata": {
            "tags": []
          }
        }
      ]
    },
    {
      "cell_type": "markdown",
      "metadata": {
        "id": "qFoAiR4twv9E",
        "colab_type": "text"
      },
      "source": [
        "# Lista 12 Aplicando os Métodos de RK Segunda e Quarta Ordem"
      ]
    },
    {
      "cell_type": "code",
      "metadata": {
        "id": "vB7D-hUow2T0",
        "colab_type": "code",
        "outputId": "686d790e-987e-4e14-8957-cfc239df2c33",
        "colab": {
          "base_uri": "https://localhost:8080/"
        }
      },
      "source": [
        "# Questão 1\n",
        "print('Questão 1 - RK2\\n')\n",
        "fxy = lambda y: (2*y)*((92-y)/92)\n",
        "RK2(fxy, 0, 3, 3, 0, 10)\n",
        "\n",
        "print('\\nQuestão 1 - RK4\\n')\n",
        "RK4(fxy, 0, 3, 3, 0, 10)\n",
        "print('--------------------------------------------------------\\n')\n",
        "\n",
        "print('Questão 2 - RK2\\n')\n",
        "k = -0.06\n",
        "fxy = lambda y: k * math.sqrt(y)\n",
        "rungeKuttaSegunda_q2(fxy, 0.5, 0 , 3)\n",
        "\n",
        "\n",
        "print('\\nQuestão 2 - RK4\\n')\n",
        "fxy = lambda y: k * math.sqrt(y)\n",
        "rungeKuttaQuarta_q2(fxy, 0.5, 0 , 3)\n",
        "\n",
        "print('\\n--------------------------------------------------------\\n')\n",
        "# Questão 4\n",
        "print('Questão 4 - Aplicando h = 0.5 e h = 0.25\\n')\n",
        "fxy = lambda x, y: y*(x**2) - y\n",
        "rungeKuttaQuarta (fxy, 0, 2, 4, 0, 1)\n",
        "print('\\n--------------------------------------------------------\\n')\n",
        "rungeKuttaQuarta (fxy, 0, 2, 8, 0, 1)"
      ],
      "execution_count": 0,
      "outputs": [
        {
          "output_type": "stream",
          "text": [
            "Questão 1 - RK2\n",
            "\n",
            "    Xk         Yk          P          Q\n",
            "0  0.0  10.000000  17.826087  38.819758\n",
            "1  1.0  38.322923  44.718750  16.172055\n",
            "2  2.0  68.768325  34.730508 -25.872083\n",
            "3  3.0  73.197537   0.000000   0.000000\n",
            "\n",
            "Questão 1 - RK4\n",
            "\n",
            "    Xk         Yk          P          Q\n",
            "0  0.0  10.000000  17.826087  38.819758\n",
            "1  1.0  19.440974  30.665612  45.633390\n",
            "2  2.0  32.157475  41.834445  28.966357\n",
            "3  3.0  43.957608   0.000000   0.000000\n",
            "--------------------------------------------------------\n",
            "\n",
            "Questão 2 - RK2\n",
            "\n",
            "       Xk        Yk        K1        K2\n",
            "0     0.0  3.000000 -0.103923 -0.103019\n",
            "1     0.5  2.948264 -0.103023 -0.102119\n",
            "2     1.0  2.896979 -0.102123 -0.101219\n",
            "3     1.5  2.846143 -0.101223 -0.100319\n",
            "4     2.0  2.795758 -0.100323 -0.099419\n",
            "..    ...       ...       ...       ...\n",
            "104  52.0  0.029708 -0.010342 -0.009399\n",
            "105  52.5  0.024773 -0.009444 -0.008496\n",
            "106  53.0  0.020288 -0.008546 -0.007593\n",
            "107  53.5  0.016253 -0.007649 -0.006689\n",
            "108  54.0  0.012669 -0.006753 -0.005784\n",
            "\n",
            "[109 rows x 4 columns]\n",
            "\n",
            "Questão 2 - RK4\n",
            "\n",
            "       Xk        Yk        K1        K2        K3        K4\n",
            "0     0.0  3.000000 -0.103923 -0.103472 -0.103474 -0.103023\n",
            "1     0.5  2.948263 -0.103023 -0.102572 -0.102574 -0.102123\n",
            "2     1.0  2.896977 -0.102123 -0.101672 -0.101674 -0.101223\n",
            "3     1.5  2.846140 -0.101223 -0.100772 -0.100774 -0.100323\n",
            "4     2.0  2.795754 -0.100323 -0.099872 -0.099874 -0.099423\n",
            "..    ...       ...       ...       ...       ...       ...\n",
            "104  52.0  0.029602 -0.010323 -0.009863 -0.009884 -0.009422\n",
            "105  52.5  0.024665 -0.009423 -0.008962 -0.008985 -0.008522\n",
            "106  53.0  0.020178 -0.008523 -0.008061 -0.008086 -0.007621\n",
            "107  53.5  0.016142 -0.007623 -0.007159 -0.007188 -0.006721\n",
            "108  54.0  0.012555 -0.006723 -0.006257 -0.006290 -0.005820\n",
            "\n",
            "[109 rows x 6 columns]\n",
            "\n",
            "--------------------------------------------------------\n",
            "\n",
            "Questão 4 - Aplicando h = 0.5 e h = 0.25\n",
            "\n",
            "    Xk        Yk        K1        K2        K3        K4\n",
            "0  0.0  1.000000 -1.000000 -0.703125 -0.772705 -0.460236\n",
            "1  0.5  0.632342 -0.474257 -0.224778 -0.252065  0.000000\n",
            "2  1.0  0.513347  0.000000  0.288758  0.329364  0.847536\n",
            "3  1.5  0.686995  0.858744  1.859718  2.375845  5.624753\n",
            "\n",
            "--------------------------------------------------------\n",
            "\n",
            "     Xk        Yk        K1        K2        K3        K4\n",
            "0  0.00  1.000000 -1.000000 -0.861328 -0.878391 -0.731627\n",
            "1  0.25  0.782872 -0.733943 -0.593939 -0.608979 -0.472971\n",
            "2  0.50  0.632341 -0.474256 -0.349208 -0.358733 -0.237413\n",
            "3  0.75  0.543693 -0.237866 -0.120459 -0.123899  0.000000\n",
            "4  1.00  0.513419  0.000000  0.136377  0.140905  0.308613\n",
            "5  1.25  0.549385  0.309029  0.523699  0.547598  0.857855\n",
            "6  1.50  0.687279  0.859099  1.303750  1.394939  2.136779\n",
            "7  1.75  1.036998  2.138809  3.281255  3.640500  5.841370\n"
          ],
          "name": "stdout"
        },
        {
          "output_type": "display_data",
          "data": {
            "image/png": "[encoded data removed]",
            "text/plain": [
              "<Figure size 432x288 with 1 Axes>"
            ]
          },
          "metadata": {
            "tags": []
          }
        }
      ]
    }
  ]
}